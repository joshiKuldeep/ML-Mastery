{
 "cells": [
  {
   "cell_type": "markdown",
   "metadata": {},
   "source": [
    "# S.1. Define your problem "
   ]
  },
  {
   "cell_type": "markdown",
   "metadata": {},
   "source": [
    "##    Step 1: What is the problem?\n",
    "\n",
    " Describe the problem informally and formally and list assumptions and similar problems.\n",
    " \n",
    "##    Step 2: Why does the problem need to be solved?\n",
    "\n",
    "List your motivation for solving the problem, the benefits a solution provides and how the solution will be used.\n",
    "\n",
    "##    Step 3: How would I solve the problem?\n",
    "\n",
    "Describe how the problem would be solved manually to flush domain knowledge.\n",
    " "
   ]
  },
  {
   "cell_type": "markdown",
   "metadata": {},
   "source": [
    "# S.2. Prepare your data \n",
    "The more disciplined you are in your handling of data, the more consistent and better results you are like likely to achieve. The process for getting data ready for a machine learning algorithm can be summarized in three steps:\n",
    "\n",
    "\n",
    "    Step 1: Data Selection Consider what data is available, what data is missing and what data can be removed.\n",
    "    Step 2: Data Preprocessing Organize your selected data by formatting, cleaning and sampling from it.\n",
    "    Step 3: Data Transformation Transform preprocessed data ready for machine learning by engineering features using scaling, attribute decomposition and attribute aggregation.\n",
    "\n",
    "Data preparation is a large subject that can involve a lot of iterations, exploration and analysis. Getting good at data preparation will make you a master at machine learning. For now, just consider the questions raised in this post when preparing data and always be looking for clearer ways of representing the problem you are trying to solve."
   ]
  },
  {
   "cell_type": "code",
   "execution_count": null,
   "metadata": {},
   "outputs": [],
   "source": []
  }
 ],
 "metadata": {
  "kernelspec": {
   "display_name": "Python 3",
   "language": "python",
   "name": "python3"
  },
  "language_info": {
   "codemirror_mode": {
    "name": "ipython",
    "version": 3
   },
   "file_extension": ".py",
   "mimetype": "text/x-python",
   "name": "python",
   "nbconvert_exporter": "python",
   "pygments_lexer": "ipython3",
   "version": "3.7.1"
  }
 },
 "nbformat": 4,
 "nbformat_minor": 2
}
